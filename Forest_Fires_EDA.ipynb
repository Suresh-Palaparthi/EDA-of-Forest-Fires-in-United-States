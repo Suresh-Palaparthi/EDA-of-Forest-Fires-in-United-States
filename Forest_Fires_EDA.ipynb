{
 "cells": [
  {
   "cell_type": "code",
   "execution_count": null,
   "id": "be074669",
   "metadata": {},
   "outputs": [],
   "source": [
    "import pandas as pd"
   ]
  },
  {
   "cell_type": "code",
   "execution_count": null,
   "id": "d60068aa",
   "metadata": {},
   "outputs": [],
   "source": [
    "fires_by_month = pd.read_pickle('fires_by_month.pkl')"
   ]
  },
  {
   "cell_type": "code",
   "execution_count": null,
   "id": "03cebb76",
   "metadata": {},
   "outputs": [
    {
     "name": "stdout",
     "output_type": "stream",
     "text": [
      "First 5 Rows of the DataFrame:\n",
      "  state  fire_year  fire_month  acres_burned  days_burning  fire_count\n",
      "0    AK       1992           5        4202.0         135.0          14\n",
      "1    AK       1992           6       86401.0         417.0          23\n",
      "2    AK       1992           7       48516.7         500.0          26\n",
      "3    AK       1992           8        3305.0          92.0           4\n",
      "4    AK       1992           9          20.0           1.0           1\n"
     ]
    }
   ],
   "source": [
    "print(\"First 5 Rows of the DataFrame:\")\n",
    "print(fires_by_month.head())"
   ]
  },
  {
   "cell_type": "markdown",
   "id": "6a75f697",
   "metadata": {},
   "source": [
    "## Add and modify columns"
   ]
  },
  {
   "cell_type": "code",
   "execution_count": null,
   "id": "b4de4674",
   "metadata": {},
   "outputs": [
    {
     "name": "stdout",
     "output_type": "stream",
     "text": [
      "  state  fire_year  fire_month  acres_burned  days_burning  fire_count  \\\n",
      "0    AK       1992           5        4202.0         135.0          14   \n",
      "1    AK       1992           6       86401.0         417.0          23   \n",
      "2    AK       1992           7       48516.7         500.0          26   \n",
      "3    AK       1992           8        3305.0          92.0           4   \n",
      "4    AK       1992           9          20.0           1.0           1   \n",
      "\n",
      "   mean_acres_per_day  \n",
      "0           31.125926  \n",
      "1          207.196643  \n",
      "2           97.033400  \n",
      "3           35.923913  \n",
      "4           20.000000  \n"
     ]
    }
   ],
   "source": [
    "# add a column for the mean number of acres burned per day\n",
    "fires_by_month['mean_acres_per_day'] = fires_by_month['acres_burned'] / fires_by_month['days_burning']\n",
    "print(fires_by_month.head())"
   ]
  },
  {
   "cell_type": "code",
   "execution_count": null,
   "id": "47d71ef8",
   "metadata": {},
   "outputs": [
    {
     "name": "stdout",
     "output_type": "stream",
     "text": [
      "  state  fire_year  fire_month  acres_burned  days_burning  fire_count  \\\n",
      "0    AK       1992           5        4202.0         135.0          14   \n",
      "1    AK       1992           6       86401.0         417.0          23   \n",
      "2    AK       1992           7       48516.7         500.0          26   \n",
      "3    AK       1992           8        3305.0          92.0           4   \n",
      "4    AK       1992           9          20.0           1.0           1   \n",
      "\n",
      "   mean_acres_per_day  mean_acres_per_day_lambda  \n",
      "0           31.125926                  31.125926  \n",
      "1          207.196643                 207.196643  \n",
      "2           97.033400                  97.033400  \n",
      "3           35.923913                  35.923913  \n",
      "4           20.000000                  20.000000  \n",
      "\n",
      "Rows with zero in the 'days_burning' column:\n",
      "   state  fire_year  fire_month  acres_burned  days_burning  fire_count  \\\n",
      "10    AK       1994           3         200.0           0.0           1   \n",
      "29    AK       1997           3         300.0           0.0           1   \n",
      "45    AK       2000           4          30.0           0.0           0   \n",
      "55    AK       2001          10          20.5           0.0           0   \n",
      "61    AK       2003           1         432.7           0.0           1   \n",
      "\n",
      "    mean_acres_per_day  mean_acres_per_day_lambda  \n",
      "10                 inf                        NaN  \n",
      "29                 inf                        NaN  \n",
      "45                 inf                        NaN  \n",
      "55                 inf                        NaN  \n",
      "61                 inf                        NaN  \n"
     ]
    }
   ],
   "source": [
    "import numpy as np\n",
    "# add a column that uses a lambda to calculate the mean number of acres burned per day\n",
    "fires_by_month['mean_acres_per_day_lambda'] = fires_by_month.apply(\n",
    "    lambda row: row['acres_burned'] / row['days_burning'] if row['days_burning'] !=0 else np.nan, axis = 1\n",
    ")\n",
    "print(fires_by_month.head())\n",
    "\n",
    "# Here, I understood that division is handled differently in direct division and lamda division cases.\n",
    "# So, I'm printing the rows where days_burning is 0. From the output I can see that 'inf' is the result of division in direct division that NymPy does.\n",
    "# For records where days_burning is '0', I see that there are valid values for 'acres_burned'. \n",
    "# So, '0' in 'days_burning' should represent a missing value. In this case, I'm choosing not to show '0' as the mean and showing nan (not a number).\n",
    "\n",
    "# Filter rows where 'days_burning' equals 0\n",
    "zero_rows = fires_by_month[fires_by_month['days_burning'] == 0]\n",
    "\n",
    "# Check if the filtered DataFrame is empty\n",
    "if not zero_rows.empty:\n",
    "    print(\"\\nRows with zero in the 'days_burning' column:\")\n",
    "    print(zero_rows.head())\n"
   ]
  },
  {
   "cell_type": "code",
   "execution_count": null,
   "id": "f82b48c5",
   "metadata": {},
   "outputs": [],
   "source": [
    "# write a function to convert the fire_month column from an int value to a string value such as 'Jan', 'Feb', etc.\n",
    "\n",
    "def int_to_month_abbr(month_int):\n",
    "    month_map = {\n",
    "        1: \"Jan\", 2: \"Feb\", 3: \"Mar\", 4: \"Apr\", 5: \"May\", 6: \"Jun\",\n",
    "        7: \"Jul\", 8: \"Aug\", 9: \"Sep\", 10: \"Oct\", 11: \"Nov\", 12: \"Dec\"\n",
    "    }\n",
    "    return month_map.get(month_int, \"Unknown\")\n"
   ]
  },
  {
   "cell_type": "code",
   "execution_count": null,
   "id": "fede4a3c",
   "metadata": {},
   "outputs": [
    {
     "name": "stdout",
     "output_type": "stream",
     "text": [
      "DataFrame after converting fire_month from numbers to month names\n",
      "  state  fire_year fire_month  acres_burned  days_burning  fire_count  \\\n",
      "0    AK       1992        May        4202.0         135.0          14   \n",
      "1    AK       1992        Jun       86401.0         417.0          23   \n",
      "2    AK       1992        Jul       48516.7         500.0          26   \n",
      "3    AK       1992        Aug        3305.0          92.0           4   \n",
      "4    AK       1992        Sep          20.0           1.0           1   \n",
      "\n",
      "   mean_acres_per_day  mean_acres_per_day_lambda  \n",
      "0           31.125926                  31.125926  \n",
      "1          207.196643                 207.196643  \n",
      "2           97.033400                  97.033400  \n",
      "3           35.923913                  35.923913  \n",
      "4           20.000000                  20.000000  \n"
     ]
    }
   ],
   "source": [
    "# I'm applying this function to the DataFrame for the fire_month column\n",
    "\n",
    "fires_by_month['fire_month'] = fires_by_month['fire_month'].apply(int_to_month_abbr)\n",
    "\n",
    "print(\"DataFrame after converting fire_month from numbers to month names\")\n",
    "print(fires_by_month.head())"
   ]
  },
  {
   "cell_type": "markdown",
   "id": "300b95b0",
   "metadata": {},
   "source": [
    "## Work with indexes"
   ]
  },
  {
   "cell_type": "code",
   "execution_count": null,
   "id": "e2da8d84",
   "metadata": {},
   "outputs": [
    {
     "name": "stdout",
     "output_type": "stream",
     "text": [
      "\n",
      "DataFrame with Multi-Index\n",
      "                            acres_burned  days_burning  fire_count  \\\n",
      "state fire_year fire_month                                           \n",
      "AK    1992      May               4202.0         135.0          14   \n",
      "                Jun              86401.0         417.0          23   \n",
      "                Jul              48516.7         500.0          26   \n",
      "                Aug               3305.0          92.0           4   \n",
      "                Sep                 20.0           1.0           1   \n",
      "\n",
      "                            mean_acres_per_day  mean_acres_per_day_lambda  \n",
      "state fire_year fire_month                                                 \n",
      "AK    1992      May                  31.125926                  31.125926  \n",
      "                Jun                 207.196643                 207.196643  \n",
      "                Jul                  97.033400                  97.033400  \n",
      "                Aug                  35.923913                  35.923913  \n",
      "                Sep                  20.000000                  20.000000  \n"
     ]
    }
   ],
   "source": [
    "# set an index on the state, fire_year, and fire_month columns\n",
    "\n",
    "fires_by_month.set_index(['state', 'fire_year', 'fire_month'], inplace=True)\n",
    "print(\"\\nDataFrame with Multi-Index\")\n",
    "print(fires_by_month.head())"
   ]
  },
  {
   "cell_type": "code",
   "execution_count": null,
   "id": "4d152f33",
   "metadata": {},
   "outputs": [
    {
     "name": "stdout",
     "output_type": "stream",
     "text": [
      "\n",
      "Unstacked DataFrame (fire_month unstacked)\n",
      "\n",
      "                acres_burned                                                  \\\n",
      "fire_month               Apr      Aug Dec Feb Jan       Jul       Jun    Mar   \n",
      "state fire_year                                                                \n",
      "AK    1992               NaN   3305.0 NaN NaN NaN   48516.7   86401.0    NaN   \n",
      "      1993             113.0   1132.0 NaN NaN NaN  483493.3  197740.2    NaN   \n",
      "      1994               NaN  24139.0 NaN NaN NaN   50510.0  184428.0  200.0   \n",
      "      1995             810.6      NaN NaN NaN NaN   27856.0    5622.0    NaN   \n",
      "      1996             190.8     10.0 NaN NaN NaN   56143.0  446273.4    NaN   \n",
      "\n",
      "                              ... mean_acres_per_day_lambda          \\\n",
      "fire_month           May Nov  ...                       Dec Feb Jan   \n",
      "state fire_year               ...                                     \n",
      "AK    1992        4202.0 NaN  ...                       NaN NaN NaN   \n",
      "      1993        4152.0 NaN  ...                       NaN NaN NaN   \n",
      "      1994        1127.7 NaN  ...                       NaN NaN NaN   \n",
      "      1995        9394.0 NaN  ...                       NaN NaN NaN   \n",
      "      1996       92540.0 NaN  ...                       NaN NaN NaN   \n",
      "\n",
      "                                                                               \n",
      "fire_month              Jul         Jun Mar         May Nov         Oct   Sep  \n",
      "state fire_year                                                                \n",
      "AK    1992        97.033400  207.196643 NaN   31.125926 NaN         NaN  20.0  \n",
      "      1993       243.819112  163.286705 NaN   37.071429 NaN         NaN   NaN  \n",
      "      1994       102.246964  126.580645 NaN   49.030435 NaN  333.333333  12.5  \n",
      "      1995        87.050000   20.078571 NaN   52.188889 NaN   14.000000   5.0  \n",
      "      1996       186.521595  279.095310 NaN  451.414634 NaN  812.500000   NaN  \n",
      "\n",
      "[5 rows x 60 columns]\n"
     ]
    }
   ],
   "source": [
    "# unstack the fire_month column and store the resulting DataFrame in a different variable\n",
    "\n",
    "fires_unstacked = fires_by_month.unstack('fire_month')\n",
    "print(\"\\nUnstacked DataFrame (fire_month unstacked)\\n\")\n",
    "print(fires_unstacked.head())"
   ]
  },
  {
   "cell_type": "code",
   "execution_count": null,
   "id": "a6a76e12",
   "metadata": {},
   "outputs": [
    {
     "name": "stdout",
     "output_type": "stream",
     "text": [
      "DataFrame After Resetting Index:\n",
      "\n",
      "  state  fire_year fire_month  acres_burned  days_burning  fire_count  \\\n",
      "0    AK       1992        May        4202.0         135.0          14   \n",
      "1    AK       1992        Jun       86401.0         417.0          23   \n",
      "2    AK       1992        Jul       48516.7         500.0          26   \n",
      "3    AK       1992        Aug        3305.0          92.0           4   \n",
      "4    AK       1992        Sep          20.0           1.0           1   \n",
      "\n",
      "   mean_acres_per_day  mean_acres_per_day_lambda  \n",
      "0           31.125926                  31.125926  \n",
      "1          207.196643                 207.196643  \n",
      "2           97.033400                  97.033400  \n",
      "3           35.923913                  35.923913  \n",
      "4           20.000000                  20.000000  \n",
      "MultiIndex([(             'acres_burned', 'Apr'),\n",
      "            (             'acres_burned', 'Aug'),\n",
      "            (             'acres_burned', 'Dec'),\n",
      "            (             'acres_burned', 'Feb'),\n",
      "            (             'acres_burned', 'Jan'),\n",
      "            (             'acres_burned', 'Jul'),\n",
      "            (             'acres_burned', 'Jun'),\n",
      "            (             'acres_burned', 'Mar'),\n",
      "            (             'acres_burned', 'May'),\n",
      "            (             'acres_burned', 'Nov'),\n",
      "            (             'acres_burned', 'Oct'),\n",
      "            (             'acres_burned', 'Sep'),\n",
      "            (             'days_burning', 'Apr'),\n",
      "            (             'days_burning', 'Aug'),\n",
      "            (             'days_burning', 'Dec'),\n",
      "            (             'days_burning', 'Feb'),\n",
      "            (             'days_burning', 'Jan'),\n",
      "            (             'days_burning', 'Jul'),\n",
      "            (             'days_burning', 'Jun'),\n",
      "            (             'days_burning', 'Mar'),\n",
      "            (             'days_burning', 'May'),\n",
      "            (             'days_burning', 'Nov'),\n",
      "            (             'days_burning', 'Oct'),\n",
      "            (             'days_burning', 'Sep'),\n",
      "            (               'fire_count', 'Apr'),\n",
      "            (               'fire_count', 'Aug'),\n",
      "            (               'fire_count', 'Dec'),\n",
      "            (               'fire_count', 'Feb'),\n",
      "            (               'fire_count', 'Jan'),\n",
      "            (               'fire_count', 'Jul'),\n",
      "            (               'fire_count', 'Jun'),\n",
      "            (               'fire_count', 'Mar'),\n",
      "            (               'fire_count', 'May'),\n",
      "            (               'fire_count', 'Nov'),\n",
      "            (               'fire_count', 'Oct'),\n",
      "            (               'fire_count', 'Sep'),\n",
      "            (       'mean_acres_per_day', 'Apr'),\n",
      "            (       'mean_acres_per_day', 'Aug'),\n",
      "            (       'mean_acres_per_day', 'Dec'),\n",
      "            (       'mean_acres_per_day', 'Feb'),\n",
      "            (       'mean_acres_per_day', 'Jan'),\n",
      "            (       'mean_acres_per_day', 'Jul'),\n",
      "            (       'mean_acres_per_day', 'Jun'),\n",
      "            (       'mean_acres_per_day', 'Mar'),\n",
      "            (       'mean_acres_per_day', 'May'),\n",
      "            (       'mean_acres_per_day', 'Nov'),\n",
      "            (       'mean_acres_per_day', 'Oct'),\n",
      "            (       'mean_acres_per_day', 'Sep'),\n",
      "            ('mean_acres_per_day_lambda', 'Apr'),\n",
      "            ('mean_acres_per_day_lambda', 'Aug'),\n",
      "            ('mean_acres_per_day_lambda', 'Dec'),\n",
      "            ('mean_acres_per_day_lambda', 'Feb'),\n",
      "            ('mean_acres_per_day_lambda', 'Jan'),\n",
      "            ('mean_acres_per_day_lambda', 'Jul'),\n",
      "            ('mean_acres_per_day_lambda', 'Jun'),\n",
      "            ('mean_acres_per_day_lambda', 'Mar'),\n",
      "            ('mean_acres_per_day_lambda', 'May'),\n",
      "            ('mean_acres_per_day_lambda', 'Nov'),\n",
      "            ('mean_acres_per_day_lambda', 'Oct'),\n",
      "            ('mean_acres_per_day_lambda', 'Sep')],\n",
      "           names=[None, 'fire_month'])\n"
     ]
    }
   ],
   "source": [
    "# reset the index for the fires_by_month DataFrame\n",
    "\n",
    "fires_by_month.reset_index(inplace=True)\n",
    "print(\"DataFrame After Resetting Index:\\n\")\n",
    "print(fires_by_month.head())\n",
    "print(fires_unstacked.columns)\n"
   ]
  },
  {
   "cell_type": "markdown",
   "id": "5f00f72c",
   "metadata": {},
   "source": [
    "## Combine data"
   ]
  },
  {
   "cell_type": "code",
   "execution_count": null,
   "id": "5e112028",
   "metadata": {},
   "outputs": [
    {
     "data": {
      "text/html": [
       "<div>\n",
       "<style scoped>\n",
       "    .dataframe tbody tr th:only-of-type {\n",
       "        vertical-align: middle;\n",
       "    }\n",
       "\n",
       "    .dataframe tbody tr th {\n",
       "        vertical-align: top;\n",
       "    }\n",
       "\n",
       "    .dataframe thead th {\n",
       "        text-align: right;\n",
       "    }\n",
       "</style>\n",
       "<table border=\"1\" class=\"dataframe\">\n",
       "  <thead>\n",
       "    <tr style=\"text-align: right;\">\n",
       "      <th></th>\n",
       "      <th>state</th>\n",
       "      <th>fire_year</th>\n",
       "      <th>fire_month</th>\n",
       "      <th>acres_burned</th>\n",
       "      <th>days_burning</th>\n",
       "      <th>fire_count</th>\n",
       "      <th>mean_acres_per_day</th>\n",
       "      <th>mean_acres_per_day_lambda</th>\n",
       "    </tr>\n",
       "  </thead>\n",
       "  <tbody>\n",
       "    <tr>\n",
       "      <th>0</th>\n",
       "      <td>CA</td>\n",
       "      <td>2021</td>\n",
       "      <td>Jun</td>\n",
       "      <td>1000</td>\n",
       "      <td>100</td>\n",
       "      <td>1</td>\n",
       "      <td>10</td>\n",
       "      <td>10</td>\n",
       "    </tr>\n",
       "  </tbody>\n",
       "</table>\n",
       "</div>"
      ],
      "text/plain": [
       "  state  fire_year fire_month  acres_burned  days_burning  fire_count  \\\n",
       "0    CA       2021        Jun          1000           100           1   \n",
       "\n",
       "   mean_acres_per_day  mean_acres_per_day_lambda  \n",
       "0                  10                         10  "
      ]
     },
     "metadata": {},
     "output_type": "display_data"
    }
   ],
   "source": [
    "# create new fire data\n",
    "new_fire = pd.DataFrame(data=[['CA',2021,'Jun',1000,100,1,10,10]], columns=fires_by_month.columns)\n",
    "new_fire.head()"
   ]
  },
  {
   "cell_type": "code",
   "execution_count": null,
   "id": "41d39baf",
   "metadata": {},
   "outputs": [],
   "source": [
    "# add the new fire data to the end of the original DataFrame\n",
    "fires_by_month_combined = pd.concat([fires_by_month, new_fire], ignore_index=False)"
   ]
  },
  {
   "cell_type": "code",
   "execution_count": null,
   "id": "3cec189f",
   "metadata": {},
   "outputs": [
    {
     "name": "stdout",
     "output_type": "stream",
     "text": [
      "     state  fire_year fire_month  acres_burned  days_burning  fire_count  \\\n",
      "9296    WY       2015        Sep        5977.0         126.0          25   \n",
      "9297    WY       2015        Oct       10337.8          15.0           6   \n",
      "9298    WY       2015        Nov         509.3           3.0           4   \n",
      "9299    WY       2015        Dec          72.0           0.0           2   \n",
      "0       CA       2021        Jun        1000.0         100.0           1   \n",
      "\n",
      "      mean_acres_per_day  mean_acres_per_day_lambda  \n",
      "9296           47.436508                  47.436508  \n",
      "9297          689.186667                 689.186667  \n",
      "9298          169.766667                 169.766667  \n",
      "9299                 inf                        NaN  \n",
      "0              10.000000                  10.000000  \n"
     ]
    }
   ],
   "source": [
    "# display the last five rows of the original DataFrame\n",
    "print(fires_by_month_combined.tail())"
   ]
  },
  {
   "cell_type": "code",
   "execution_count": null,
   "id": "1b190ca9",
   "metadata": {},
   "outputs": [],
   "source": [
    "# reset the index for the original DataFrame, dropping the numeric index\n",
    "fires_by_month_combined.reset_index(drop=True, inplace=True)"
   ]
  },
  {
   "cell_type": "code",
   "execution_count": null,
   "id": "93646fb5",
   "metadata": {},
   "outputs": [
    {
     "name": "stdout",
     "output_type": "stream",
     "text": [
      "     state  fire_year fire_month  acres_burned  days_burning  fire_count  \\\n",
      "9296    WY       2015        Sep        5977.0         126.0          25   \n",
      "9297    WY       2015        Oct       10337.8          15.0           6   \n",
      "9298    WY       2015        Nov         509.3           3.0           4   \n",
      "9299    WY       2015        Dec          72.0           0.0           2   \n",
      "9300    CA       2021        Jun        1000.0         100.0           1   \n",
      "\n",
      "      mean_acres_per_day  mean_acres_per_day_lambda  \n",
      "9296           47.436508                  47.436508  \n",
      "9297          689.186667                 689.186667  \n",
      "9298          169.766667                 169.766667  \n",
      "9299                 inf                        NaN  \n",
      "9300           10.000000                  10.000000  \n"
     ]
    }
   ],
   "source": [
    "#display the last five rows of the DataFrame again\n",
    "print(fires_by_month_combined.tail())"
   ]
  },
  {
   "cell_type": "markdown",
   "id": "5db54f8f",
   "metadata": {},
   "source": [
    "## Fix the SettingWithCopyWarning"
   ]
  },
  {
   "cell_type": "code",
   "execution_count": null,
   "id": "93c14181",
   "metadata": {},
   "outputs": [
    {
     "name": "stdout",
     "output_type": "stream",
     "text": [
      "Alaska Fire Data\n"
     ]
    },
    {
     "data": {
      "text/html": [
       "<div>\n",
       "<style scoped>\n",
       "    .dataframe tbody tr th:only-of-type {\n",
       "        vertical-align: middle;\n",
       "    }\n",
       "\n",
       "    .dataframe tbody tr th {\n",
       "        vertical-align: top;\n",
       "    }\n",
       "\n",
       "    .dataframe thead th {\n",
       "        text-align: right;\n",
       "    }\n",
       "</style>\n",
       "<table border=\"1\" class=\"dataframe\">\n",
       "  <thead>\n",
       "    <tr style=\"text-align: right;\">\n",
       "      <th></th>\n",
       "      <th>state</th>\n",
       "      <th>fire_year</th>\n",
       "      <th>fire_month</th>\n",
       "      <th>acres_burned</th>\n",
       "      <th>days_burning</th>\n",
       "      <th>fire_count</th>\n",
       "      <th>mean_acres_per_day</th>\n",
       "      <th>mean_acres_per_day_lambda</th>\n",
       "    </tr>\n",
       "  </thead>\n",
       "  <tbody>\n",
       "    <tr>\n",
       "      <th>0</th>\n",
       "      <td>AK</td>\n",
       "      <td>1992</td>\n",
       "      <td>May</td>\n",
       "      <td>4202.0</td>\n",
       "      <td>135.0</td>\n",
       "      <td>14</td>\n",
       "      <td>31.0</td>\n",
       "      <td>31.125926</td>\n",
       "    </tr>\n",
       "    <tr>\n",
       "      <th>1</th>\n",
       "      <td>AK</td>\n",
       "      <td>1992</td>\n",
       "      <td>Jun</td>\n",
       "      <td>86401.0</td>\n",
       "      <td>417.0</td>\n",
       "      <td>23</td>\n",
       "      <td>207.0</td>\n",
       "      <td>207.196643</td>\n",
       "    </tr>\n",
       "    <tr>\n",
       "      <th>2</th>\n",
       "      <td>AK</td>\n",
       "      <td>1992</td>\n",
       "      <td>Jul</td>\n",
       "      <td>48516.7</td>\n",
       "      <td>500.0</td>\n",
       "      <td>26</td>\n",
       "      <td>97.0</td>\n",
       "      <td>97.033400</td>\n",
       "    </tr>\n",
       "    <tr>\n",
       "      <th>3</th>\n",
       "      <td>AK</td>\n",
       "      <td>1992</td>\n",
       "      <td>Aug</td>\n",
       "      <td>3305.0</td>\n",
       "      <td>92.0</td>\n",
       "      <td>4</td>\n",
       "      <td>36.0</td>\n",
       "      <td>35.923913</td>\n",
       "    </tr>\n",
       "    <tr>\n",
       "      <th>4</th>\n",
       "      <td>AK</td>\n",
       "      <td>1992</td>\n",
       "      <td>Sep</td>\n",
       "      <td>20.0</td>\n",
       "      <td>1.0</td>\n",
       "      <td>1</td>\n",
       "      <td>20.0</td>\n",
       "      <td>20.000000</td>\n",
       "    </tr>\n",
       "  </tbody>\n",
       "</table>\n",
       "</div>"
      ],
      "text/plain": [
       "  state  fire_year fire_month  acres_burned  days_burning  fire_count  \\\n",
       "0    AK       1992        May        4202.0         135.0          14   \n",
       "1    AK       1992        Jun       86401.0         417.0          23   \n",
       "2    AK       1992        Jul       48516.7         500.0          26   \n",
       "3    AK       1992        Aug        3305.0          92.0           4   \n",
       "4    AK       1992        Sep          20.0           1.0           1   \n",
       "\n",
       "   mean_acres_per_day  mean_acres_per_day_lambda  \n",
       "0                31.0                  31.125926  \n",
       "1               207.0                 207.196643  \n",
       "2                97.0                  97.033400  \n",
       "3                36.0                  35.923913  \n",
       "4                20.0                  20.000000  "
      ]
     },
     "metadata": {},
     "output_type": "display_data"
    }
   ],
   "source": [
    "# the cell that causes the SettingWithCopyWarning\n",
    "#fires_ak = fires_by_month.query('state == \"AK\"')\n",
    "# To avoid warnings, I'm creating a copy first.\n",
    "\n",
    "fires_ak = fires_by_month.query('state == \"AK\"').copy()\n",
    "fires_ak.mean_acres_per_day = fires_ak.mean_acres_per_day.round()\n",
    "print(\"Alaska Fire Data\")\n",
    "fires_ak.head()"
   ]
  },
  {
   "cell_type": "code",
   "execution_count": null,
   "id": "fb74b4fe",
   "metadata": {},
   "outputs": [
    {
     "data": {
      "text/html": [
       "<div>\n",
       "<style scoped>\n",
       "    .dataframe tbody tr th:only-of-type {\n",
       "        vertical-align: middle;\n",
       "    }\n",
       "\n",
       "    .dataframe tbody tr th {\n",
       "        vertical-align: top;\n",
       "    }\n",
       "\n",
       "    .dataframe thead th {\n",
       "        text-align: right;\n",
       "    }\n",
       "</style>\n",
       "<table border=\"1\" class=\"dataframe\">\n",
       "  <thead>\n",
       "    <tr style=\"text-align: right;\">\n",
       "      <th></th>\n",
       "      <th>state</th>\n",
       "      <th>fire_year</th>\n",
       "      <th>fire_month</th>\n",
       "      <th>acres_burned</th>\n",
       "      <th>days_burning</th>\n",
       "      <th>fire_count</th>\n",
       "      <th>mean_acres_per_day</th>\n",
       "      <th>mean_acres_per_day_lambda</th>\n",
       "    </tr>\n",
       "  </thead>\n",
       "  <tbody>\n",
       "    <tr>\n",
       "      <th>0</th>\n",
       "      <td>AK</td>\n",
       "      <td>1992</td>\n",
       "      <td>May</td>\n",
       "      <td>4202.0</td>\n",
       "      <td>135.0</td>\n",
       "      <td>14</td>\n",
       "      <td>31.125926</td>\n",
       "      <td>31.125926</td>\n",
       "    </tr>\n",
       "    <tr>\n",
       "      <th>1</th>\n",
       "      <td>AK</td>\n",
       "      <td>1992</td>\n",
       "      <td>Jun</td>\n",
       "      <td>86401.0</td>\n",
       "      <td>417.0</td>\n",
       "      <td>23</td>\n",
       "      <td>207.196643</td>\n",
       "      <td>207.196643</td>\n",
       "    </tr>\n",
       "    <tr>\n",
       "      <th>2</th>\n",
       "      <td>AK</td>\n",
       "      <td>1992</td>\n",
       "      <td>Jul</td>\n",
       "      <td>48516.7</td>\n",
       "      <td>500.0</td>\n",
       "      <td>26</td>\n",
       "      <td>97.033400</td>\n",
       "      <td>97.033400</td>\n",
       "    </tr>\n",
       "    <tr>\n",
       "      <th>3</th>\n",
       "      <td>AK</td>\n",
       "      <td>1992</td>\n",
       "      <td>Aug</td>\n",
       "      <td>3305.0</td>\n",
       "      <td>92.0</td>\n",
       "      <td>4</td>\n",
       "      <td>35.923913</td>\n",
       "      <td>35.923913</td>\n",
       "    </tr>\n",
       "    <tr>\n",
       "      <th>4</th>\n",
       "      <td>AK</td>\n",
       "      <td>1992</td>\n",
       "      <td>Sep</td>\n",
       "      <td>20.0</td>\n",
       "      <td>1.0</td>\n",
       "      <td>1</td>\n",
       "      <td>20.000000</td>\n",
       "      <td>20.000000</td>\n",
       "    </tr>\n",
       "  </tbody>\n",
       "</table>\n",
       "</div>"
      ],
      "text/plain": [
       "  state  fire_year fire_month  acres_burned  days_burning  fire_count  \\\n",
       "0    AK       1992        May        4202.0         135.0          14   \n",
       "1    AK       1992        Jun       86401.0         417.0          23   \n",
       "2    AK       1992        Jul       48516.7         500.0          26   \n",
       "3    AK       1992        Aug        3305.0          92.0           4   \n",
       "4    AK       1992        Sep          20.0           1.0           1   \n",
       "\n",
       "   mean_acres_per_day  mean_acres_per_day_lambda  \n",
       "0           31.125926                  31.125926  \n",
       "1          207.196643                 207.196643  \n",
       "2           97.033400                  97.033400  \n",
       "3           35.923913                  35.923913  \n",
       "4           20.000000                  20.000000  "
      ]
     },
     "metadata": {},
     "output_type": "display_data"
    }
   ],
   "source": [
    "fires_by_month.head()"
   ]
  }
 ],
 "metadata": {
  "language_info": {
   "name": "python"
  }
 },
 "nbformat": 4,
 "nbformat_minor": 5
}
